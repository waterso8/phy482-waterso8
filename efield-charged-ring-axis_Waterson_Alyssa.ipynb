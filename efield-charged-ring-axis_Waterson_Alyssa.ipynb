{
 "cells": [
  {
   "cell_type": "markdown",
   "metadata": {},
   "source": [
    "# Computing Electric Field Along the Axis of a Charged Ring With a Computer"
   ]
  },
  {
   "cell_type": "markdown",
   "metadata": {},
   "source": [
    "This program computes the net electric field due to a uniformly charged ring of radius $R$ and charge $Q$ at a given point in space."
   ]
  },
  {
   "cell_type": "code",
   "execution_count": 1,
   "metadata": {},
   "outputs": [
    {
     "data": {
      "application/javascript": [
       "require.undef(\"nbextensions/vpython_libraries/glow.min\");"
      ],
      "text/plain": [
       "<IPython.core.display.Javascript object>"
      ]
     },
     "metadata": {},
     "output_type": "display_data"
    },
    {
     "data": {
      "application/javascript": [
       "require.undef(\"nbextensions/vpython_libraries/glowcomm\");"
      ],
      "text/plain": [
       "<IPython.core.display.Javascript object>"
      ]
     },
     "metadata": {},
     "output_type": "display_data"
    },
    {
     "data": {
      "application/javascript": [
       "require.undef(\"nbextensions/vpython_libraries/jquery-ui.custom.min\");"
      ],
      "text/plain": [
       "<IPython.core.display.Javascript object>"
      ]
     },
     "metadata": {},
     "output_type": "display_data"
    },
    {
     "data": {
      "application/javascript": [
       "require([\"nbextensions/vpython_libraries/glow.min\"], function(){console.log(\"GLOW LOADED\");})"
      ],
      "text/plain": [
       "<IPython.core.display.Javascript object>"
      ]
     },
     "metadata": {},
     "output_type": "display_data"
    },
    {
     "data": {
      "application/javascript": [
       "require([\"nbextensions/vpython_libraries/glowcomm\"], function(){console.log(\"GLOWCOMM LOADED\");})"
      ],
      "text/plain": [
       "<IPython.core.display.Javascript object>"
      ]
     },
     "metadata": {},
     "output_type": "display_data"
    },
    {
     "data": {
      "application/javascript": [
       "require([\"nbextensions/vpython_libraries/jquery-ui.custom.min\"], function(){console.log(\"JQUERY LOADED\");})"
      ],
      "text/plain": [
       "<IPython.core.display.Javascript object>"
      ]
     },
     "metadata": {},
     "output_type": "display_data"
    },
    {
     "data": {
      "text/html": [
       "<div id=\"glowscript\" class=\"glowscript\"></div>"
      ],
      "text/plain": [
       "<IPython.core.display.HTML object>"
      ]
     },
     "metadata": {},
     "output_type": "display_data"
    },
    {
     "data": {
      "application/javascript": [
       "window.__context = { glowscript_container: $(\"#glowscript\").removeAttr(\"id\")}"
      ],
      "text/plain": [
       "<IPython.core.display.Javascript object>"
      ]
     },
     "metadata": {},
     "output_type": "display_data"
    }
   ],
   "source": [
    "from __future__ import division, print_function\n",
    "from vpython import *\n",
    "from math import *\n",
    "import numpy as np"
   ]
  },
  {
   "cell_type": "code",
   "execution_count": 11,
   "metadata": {},
   "outputs": [
    {
     "data": {
      "text/html": [
       "<div id=\"glowscript\" class=\"glowscript\"></div>"
      ],
      "text/plain": [
       "<IPython.core.display.HTML object>"
      ]
     },
     "metadata": {},
     "output_type": "display_data"
    },
    {
     "data": {
      "application/javascript": [
       "window.__context = { glowscript_container: $(\"#glowscript\").removeAttr(\"id\")}"
      ],
      "text/plain": [
       "<IPython.core.display.Javascript object>"
      ]
     },
     "metadata": {},
     "output_type": "display_data"
    },
    {
     "name": "stdout",
     "output_type": "stream",
     "text": [
      "The net electric field =  <294.758, 743.951, 2785.07> N/C\n",
      "The net electric field =  <539.771, 244.305, 2785.07> N/C\n",
      "The net electric field =  <475.656, -2.84217e-12, 2785.07> N/C\n",
      "The net electric field =  <539.771, -244.305, 2785.07> N/C\n",
      "The net electric field =  <294.758, -743.951, 2785.07> N/C\n",
      "The net electric field =  <-512.404, -806.457, 2785.07> N/C\n",
      "The net electric field =  <-1010.44, 1.76215e-12, 2785.07> N/C\n",
      "The net electric field =  <-512.404, 806.457, 2785.07> N/C\n"
     ]
    }
   ],
   "source": [
    "scene=canvas(title=\"Electric field due to uniformly charged ring\")\n",
    "scene.background=color.white\n",
    "\n",
    "R=0.02 #radius of ring in m\n",
    "Q=1e-9 #charge of ring in C\n",
    "N=7 #number of unique pieces NOTE: i changed this to 7 because it somehow made the orange arrows better...\n",
    "\n",
    "\n",
    "ring_num = 5 # allows the amount of rings to be changable\n",
    "ring_but_in_relation_to_the_new_points = []\n",
    "for o in range(ring_num):\n",
    "    p = o - (ring_num)//2 # i wanted p to be called point but i wasn't sure if that was okay since point already exists\n",
    "    ring_but_in_relation_to_the_new_points.append(ring(pos=vector(0,0,.02*p), radius=R, axis=vector(0,0,1), color=color.blue, thickness=0.02*R))\n",
    "\n",
    "    \n",
    "point_num = 8 #define the number of points in the circle of points\n",
    "point_but_in_relation_to_the_new_points = [] # get an empty list to append the points in, which you can do with objects\n",
    "for i in range(point_num):\n",
    "    xposition = .01*np.sin((2*np.pi*i)/point_num) #get dat x position in there\n",
    "    yposition = .01*np.cos((2*np.pi*i)/point_num) #get dat y position in there\n",
    "    point_but_in_relation_to_the_new_points.append(sphere(pos=vector(xposition,yposition,.01), color=color.cyan, radius = .001))\n",
    "\n",
    "    \n",
    "#draw the objects\n",
    "myring=ring(pos=vector(0,0,0), radius=R, axis=vector(0,0,1), color=color.blue, thickness=0.02*R)\n",
    "zaxis=cylinder(pos=-2*R*myring.axis, radius=0.015*R, axis=4*R*myring.axis, color=color.black)\n",
    "point=sphere(pos=R*myring.axis, color=color.red, radius=5*zaxis.radius)\n",
    "\n",
    "\n",
    "oofpez=9e9 #1/(4pi epsilon_0) in N m^2/C^2\n",
    "dq=Q/N #charge of a piece\n",
    "dtheta=2*pi/N #theta increment for our loop\n",
    "theta=dtheta/2 #initial theta for first piece of loop\n",
    "\n",
    "\n",
    "for j in point_but_in_relation_to_the_new_points:\n",
    "    Enet=vector(0,0,0) #net electric field of all pieces\n",
    "    for r in range(len(ring_but_in_relation_to_the_new_points)):\n",
    "        current_ring = ring_but_in_relation_to_the_new_points[r] # we are looking at the current 'r' ring\n",
    "\n",
    "        dq = Q/N\n",
    "        dtheta = 2*pi/N\n",
    "        theta=dtheta/2 \n",
    "        \n",
    "        rpoint=j.pos #location of the point in space to calculate E field NOTE: changed to represent the jth point\n",
    "\n",
    "        scale=1.2*mag(rpoint)/8000 #used to scale the arrows representing E-field, I changed this sometimes\n",
    "        theta = 0\n",
    "        while theta<2*pi:\n",
    "            rpiece=R*vector(cos(theta),sin(theta),current_ring.pos.z/R) #location of piece, WITH Z ring position added!!!!\n",
    "            r=rpoint-rpiece #vector from piece to point in space\n",
    "            rmag=mag(r) #magnitude of r\n",
    "            rhat=norm(r) #unit vector for r\n",
    "            dE=oofpez*dq/rmag/rmag*rhat #Electric field due to piece at rpoint\n",
    "            Enet=Enet+dE #net electric field of the first one up to this one\n",
    "            particle=sphere(pos=rpiece, radius=point.radius, color=color.yellow) #draw a particle at center of piece\n",
    "            #dEvector=arrow(pos=rpoint, axis=scale*dE, color=color.magenta, shaftwidth=point.radius/2)\n",
    "            theta=theta+dtheta\n",
    "\n",
    "    print(\"The net electric field = \",Enet, \"N/C\")\n",
    "    Evector=arrow(pos=rpoint, axis=scale*Enet, color=color.orange, shaftwidth=point.radius/2)"
   ]
  },
  {
   "cell_type": "markdown",
   "metadata": {
    "collapsed": true
   },
   "source": [
    "NOTE: I didn't feel like breaking my code and adding a billion rings, but what you should see when you do that is you should see relatively horizontal electric field lines, such that in a wire with current, the closer you get to the exact middle, you should have E align more with the actual axis, like the original electric field represented."
   ]
  }
 ],
 "metadata": {
  "kernelspec": {
   "display_name": "Python 3",
   "language": "python",
   "name": "python3"
  },
  "language_info": {
   "codemirror_mode": {
    "name": "ipython",
    "version": 3
   },
   "file_extension": ".py",
   "mimetype": "text/x-python",
   "name": "python",
   "nbconvert_exporter": "python",
   "pygments_lexer": "ipython3",
   "version": "3.6.3"
  }
 },
 "nbformat": 4,
 "nbformat_minor": 1
}
